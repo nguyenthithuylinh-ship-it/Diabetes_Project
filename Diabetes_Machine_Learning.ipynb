{
  "nbformat": 4,
  "nbformat_minor": 0,
  "metadata": {
    "colab": {
      "provenance": [],
      "authorship_tag": "ABX9TyMAY150TexgBb+zSsR+YT08",
      "include_colab_link": true
    },
    "kernelspec": {
      "name": "python3",
      "display_name": "Python 3"
    },
    "language_info": {
      "name": "python"
    }
  },
  "cells": [
    {
      "cell_type": "markdown",
      "metadata": {
        "id": "view-in-github",
        "colab_type": "text"
      },
      "source": [
        "<a href=\"https://colab.research.google.com/github/nguyenthithuylinh-ship-it/Diabetes_Project/blob/main/Diabetes_Machine_Learning.ipynb\" target=\"_parent\"><img src=\"https://colab.research.google.com/assets/colab-badge.svg\" alt=\"Open In Colab\"/></a>"
      ]
    },
    {
      "cell_type": "code",
      "execution_count": 22,
      "metadata": {
        "id": "lz-qO_VQWaW9",
        "outputId": "9cc055ec-1f41-40d0-b5cd-d1a9426d5c45",
        "colab": {
          "base_uri": "https://localhost:8080/"
        }
      },
      "outputs": [
        {
          "output_type": "stream",
          "name": "stdout",
          "text": [
            "Cloning into 'Diabetes_Project'...\n",
            "remote: Enumerating objects: 74, done.\u001b[K\n",
            "remote: Counting objects: 100% (74/74), done.\u001b[K\n",
            "remote: Compressing objects: 100% (71/71), done.\u001b[K\n",
            "remote: Total 74 (delta 35), reused 0 (delta 0), pack-reused 0 (from 0)\u001b[K\n",
            "Receiving objects: 100% (74/74), 1.08 MiB | 4.66 MiB/s, done.\n",
            "Resolving deltas: 100% (35/35), done.\n"
          ]
        }
      ],
      "source": [
        "!git clone https://github.com/nguyenthithuylinh-ship-it/Diabetes_Project"
      ]
    },
    {
      "cell_type": "code",
      "source": [
        "!ls /content/Diabetes_Project/"
      ],
      "metadata": {
        "id": "qGtnRo9Jf0_G",
        "outputId": "adf6a88a-aeb1-4acc-d56b-d6b12b704fac",
        "colab": {
          "base_uri": "https://localhost:8080/"
        }
      },
      "execution_count": 25,
      "outputs": [
        {
          "output_type": "stream",
          "name": "stdout",
          "text": [
            "data\t\t\t\t Exploratory_Data_Analysis.ipynb\n",
            "Diabetes_Machine_Learning.ipynb  README.md\n"
          ]
        }
      ]
    },
    {
      "cell_type": "code",
      "source": [
        "data.shape"
      ],
      "metadata": {
        "id": "fRucRYdyhm-I",
        "outputId": "e3cc24a3-6d72-441c-a8c4-b13d5d707a8d",
        "colab": {
          "base_uri": "https://localhost:8080/"
        }
      },
      "execution_count": 28,
      "outputs": [
        {
          "output_type": "execute_result",
          "data": {
            "text/plain": [
              "(768, 25)"
            ]
          },
          "metadata": {},
          "execution_count": 28
        }
      ]
    }
  ]
}