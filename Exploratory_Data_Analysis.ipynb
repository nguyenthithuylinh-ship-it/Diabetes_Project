{
  "nbformat": 4,
  "nbformat_minor": 0,
  "metadata": {
    "colab": {
      "provenance": [],
      "name": "Exploratory_Data_Analysis.ipynb",
      "collapsed_sections": [
        "0Egs-v_WfgyG",
        "vxw9AteagAyu",
        "CoovvE3EgHOK"
      ],
      "authorship_tag": "ABX9TyNUmwCL55CuM7H8Bf8YLOtB",
      "include_colab_link": true
    },
    "kernelspec": {
      "name": "python3",
      "display_name": "Python 3"
    },
    "language_info": {
      "name": "python"
    }
  },
  "cells": [
    {
      "cell_type": "markdown",
      "metadata": {
        "id": "view-in-github",
        "colab_type": "text"
      },
      "source": [
        "<a href=\"https://colab.research.google.com/github/nguyenthithuylinh-ship-it/Diabetes_Project/blob/main/Exploratory_Data_Analysis.ipynb\" target=\"_parent\"><img src=\"https://colab.research.google.com/assets/colab-badge.svg\" alt=\"Open In Colab\"/></a>"
      ]
    },
    {
      "cell_type": "markdown",
      "source": [
        "# **BÁO CÁO PHÂN TÍCH VÀ ỨNG DỤNG HỌC MÁY TRONG DỰ ĐOÁN NGUY CƠ MẮC BỆNH ĐÁI THÁO ĐƯỜNG**"
      ],
      "metadata": {
        "id": "lN98udcmEZgc"
      }
    },
    {
      "cell_type": "markdown",
      "source": [
        "\n",
        "\n",
        "# **1.   Giới thiệu**\n"
      ],
      "metadata": {
        "id": "dTaO8yhwE5Jg"
      }
    },
    {
      "cell_type": "markdown",
      "source": [
        "**Bối cảnh**<br>\n",
        "Bộ dữ liệu này ban đầu đến từ Viện Quốc gia về Bệnh Tiểu đường, Tiêu hóa và Thận. Mục tiêu của bộ dữ liệu là dự đoán chẩn đoán xem bệnh nhân có mắc bệnh tiểu đường hay không, dựa trên một số chỉ số chẩn đoán có trong bộ dữ liệu. Việc lựa chọn các trường hợp này từ một cơ sở dữ liệu lớn hơn gặp một số hạn chế. Cụ thể, tất cả các bệnh nhân ở đây đều là nữ, ít nhất 21 tuổi, thuộc dân tộc người Pima.\n",
        "\n",
        "**Nội dung**<br>\n",
        "Bộ dữ liệu bao gồm một số biến dự đoán y tế và một biến mục tiêu là **`Outcome`**. Các biến dự đoán bao gồm **`Pregnancies`**, **`Glucose`**, **`BloodPressure`**, **`SkinThickness`**, **`Insulin`**, **`BMI`**, **`DiabetesPedigreeFunction`**, **`Age`**"
      ],
      "metadata": {
        "id": "DCrgBu9LFGDk"
      }
    },
    {
      "cell_type": "markdown",
      "source": [
        "\n",
        "\n",
        "# **2.   Nạp dữ liệu vào chương trình**\n"
      ],
      "metadata": {
        "id": "B5adxP3jIsl2"
      }
    },
    {
      "cell_type": "code",
      "execution_count": null,
      "metadata": {
        "id": "QE76ZJ09MA_x"
      },
      "outputs": [],
      "source": [
        "#import Lib\n",
        "import pandas as pd\n",
        "import numpy as np\n",
        "import seaborn as sns\n",
        "import matplotlib as plt\n",
        "import matplotlib.pyplot as plt\n",
        "import plotly.figure_factory as ff\n",
        "import plotly.tools as tls\n",
        "import plotly.graph_objs as go\n",
        "import plotly.offline as py\n",
        "import plotly.express as px\n",
        "\n",
        "from sklearn.model_selection import KFold, cross_val_predict\n",
        "from sklearn.metrics import confusion_matrix, roc_curve, auc, precision_recall_curve\n",
        "from sklearn.preprocessing import LabelEncoder\n",
        "from sklearn.preprocessing import StandardScaler\n",
        "from sklearn.model_selection import train_test_split\n",
        "from sklearn.svm import SVC\n",
        "from sklearn.metrics import classification_report, accuracy_score\n",
        "from sklearn.metrics import confusion_matrix, ConfusionMatrixDisplay\n",
        "from sklearn.metrics import roc_auc_score\n",
        "from sklearn.neighbors import KNeighborsClassifier\n",
        "from sklearn.metrics import accuracy_score\n",
        "from sklearn.linear_model import LogisticRegression\n",
        "from sklearn.pipeline import Pipeline\n",
        "from sklearn.ensemble import RandomForestClassifier\n",
        "\n",
        "\n",
        "from imblearn.over_sampling import SMOTE"
      ]
    },
    {
      "cell_type": "code",
      "source": [
        "#Nạp dữ liệu\n",
        "url = \"https://raw.githubusercontent.com/nguyenthithuylinh-ship-it/Diabetes_Project/refs/heads/main/data/diabetes.csv\"\n",
        "data = pd.read_csv(url)"
      ],
      "metadata": {
        "id": "WrN8Tm7oUvB5"
      },
      "execution_count": null,
      "outputs": []
    },
    {
      "cell_type": "code",
      "source": [
        "#Trả về tên của tất cả các cột trong DataFrame data\n",
        "data.columns"
      ],
      "metadata": {
        "id": "LJ1SBxpqcsmA"
      },
      "execution_count": null,
      "outputs": []
    },
    {
      "cell_type": "markdown",
      "source": [
        "**Ghi chú**\n",
        "\n",
        "*   **`Pregnancies`**: số lần mang thai\n",
        "*   **`Glucose`**: Nồng độ glucose trong huyết tương sau 2 giờ trong bài kiểm tra dung nạp glucose qua đường uống. Chỉ số này cho biết cơ thể có khả năng chuyển hóa đường hiệu quả sau khi uống glucose hay không.\n",
        "*   **`BloodPressure`**: Huyết áp tâm trương (DBP). Là áp lực trong động mạch khi tim nghỉ giữa hai nhịp co, đo bằng mmHg.\n",
        "*   **`SkinThickness`**: Độ dày nếp gấp da vùng cơ tam đầu (mm)\n",
        "![rach-co-tam-dau-o-canh-tay.jpg](data:image/jpeg;base64,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)\n",
        "*   **`Insulin`**: Nồng độ insulin huyết thanh sau 2 giờ (mu U/ml). Chỉ số này dùng để đánh giá khả năng tiết insulin của tuyến tụy và kháng insulin, rất quan trọng trong nghiên cứu và chẩn đoán tiểu đường type 2. Cụ thể, chỉ số này được sử dụng trong Nghiệm pháp dung nạp glucose đường uống (OGTT). Sau khi cho bệnh nhân uống 75g glucose, người ta đo nồng độ insulin trong máu tại thời điểm trước khi uống và sau khi uống 2 giờ. Ý nghĩa của việc đo chỉ số này:\n",
        "\n",
        "1.   Đánh giá khả năng tiết insulin của tuyến tụy: Một tuyến tụy khỏe mạnh sẽ phản ứng bằng cách tiết ra một lượng insulin đủ lớn sau khi uống glucose để điều hòa lượng đường trong máu. Nếu chỉ số insulin 2 giờ thấp, cho thấy chức năng tế bào beta của tuyến tụy suy giảm, không thể tiết đủ insulin.\n",
        "2.   Đánh giá tình trạng kháng insulin: Trong giai đoạn đầu của tiền tiểu đường hoặc tiểu đường type 2, cơ thể thường bị kháng insulin. Để bù đắp, tuyến tụy phải làm việc quá sức và tiết ra rất nhiều insulin (hyperinsulinemia). Do đó, một chỉ số insulin 2 giờ cao bất thường là dấu hiệu mạnh mẽ của tình trạng kháng insulin.\n",
        "\n",
        "*   **`BMI`**: Chỉ số khối cơ thể (BMI) – trọng lượng tính bằng kg chia bình phương chiều cao tính bằng mét. Dùng để đánh giá tình trạng cân nặng và mỡ cơ thể.Ý nghĩa trong y học:\n",
        "\n",
        "1. BMI thấp → suy dinh dưỡng.\n",
        "\n",
        "2. BMI bình thường → sức khỏe cân đối.\n",
        "\n",
        "3. BMI cao → thừa cân, béo phì, là yếu tố nguy cơ quan trọng của tiểu đường type 2 và bệnh tim mạch.\n",
        "*   **`DiabetesPedigreeFunction`**: Hàm phả hệ tiểu đường. Nó là một con số ước tính ảnh hưởng của di truyền đối với nguy cơ mắc bệnh tiểu đường type 2 của một cá nhân dựa trên tiền sử gia đình của họ. Một giá trị DPF càng cao cho thấy người đó có tiền sử gia đình mắc tiểu đường càng mạnh, đồng nghĩa với nguy cơ di truyền cao hơn.\n",
        "*   **`Age`**: tuổi\n",
        "*   **`Outcome`**: kết quả (0 = không mắc bệnh, 1 = mắc bệnh)\n",
        "<br>"
      ],
      "metadata": {
        "id": "Id0nbnlmdO0i"
      }
    },
    {
      "cell_type": "code",
      "source": [
        "#head() dùng để xem nhanh n dòng đầu tiên của DataFrame. Mặc định: data.head() sẽ hiển thị 5 dòng đầu tiên.\n",
        "data.head()"
      ],
      "metadata": {
        "id": "asam_ExpUzO_"
      },
      "execution_count": null,
      "outputs": []
    },
    {
      "cell_type": "code",
      "source": [
        "# tail() dùng để xem nhanh n dòng cuối cùng của DataFrame. Mặc định: data.tail() sẽ hiển thị 5 dòng cuối cùng.\n",
        "data.tail()"
      ],
      "metadata": {
        "id": "LvRusq0Oyylz"
      },
      "execution_count": null,
      "outputs": []
    },
    {
      "cell_type": "code",
      "source": [
        "#Chọn ngẫu nhiên 5 hàng (rows) từ DataFrame data\n",
        "data.sample(5)"
      ],
      "metadata": {
        "id": "9cgcQAzyoDdX"
      },
      "execution_count": null,
      "outputs": []
    },
    {
      "cell_type": "markdown",
      "source": [
        "\n",
        "\n",
        "\n",
        "\n",
        "# **3.   Phân loại đặc trưng**\n",
        "\n",
        "\n",
        "\n"
      ],
      "metadata": {
        "id": "z3T6aXEjs-tm"
      }
    },
    {
      "cell_type": "markdown",
      "source": [
        "\n",
        "\n",
        "*   Việc này giúp chọn được các biểu đồ thích hợp để trực quan hóa dữ liệu\n",
        "\n",
        "**1️⃣ Categorical data (dữ liệu phân loại)**\n",
        "\n",
        "*   **Định nghĩa:** Dữ liệu được đặt vào các nhóm (categories) sử dụng tên hoặc nhãn.\n",
        "*   **Các kiểu categorical**<br>\n",
        "    **1**. **Dữ liệu Danh nghĩa `(Nominal data)`**: Đặt tên hoặc nhãn cho các danh mục; giống như danh từ (naming data). Ví dụ: màu sắc, quốc gia<br>\n",
        "    **2**. **Dữ liệu Thứ tự `(Ordinal data)`**: Bao gồm các yếu tố có thứ hạng, sắp xếp hoặc thang điểm đánh giá. Dữ liệu này có thể được sắp xếp và đếm nhưng không thể đo lường (ví dụ: xếp hạng: Low, Medium, High).\n",
        "\n",
        "*   **Trực quan hóa (Visualization):** Chỉ sử dụng biểu đồ thanh (Bar charts) và biểu đồ tròn (Pie charts).\n",
        "*   **Ví dụ:** Xác định giới tính (Nam, Nữ, Khác).<br>\n",
        "\n",
        "\n",
        "**2️⃣ Numerical data (dữ liệu số)**\n",
        "\n",
        "*   **Định nghĩa:** Dữ liệu được thể hiện bằng các con số, không phải bằng mô tả ngôn ngữ tự nhiên.\n",
        "*   **Các kiểu Numerical**<br>\n",
        "    **1. Dữ liệu Rời rạc `(Discrete Data)`:** Dữ liệu số có thể đếm được, ánh xạ một-một với số tự nhiên (ví dụ: tuổi, số học sinh trong lớp).<br>\n",
        "    **2. Dữ liệu Liên tục `(Continuous Data)`:** Dữ liệu số không đếm được, biểu thị bằng một chuỗi các khoảng (ví dụ: CGPA, chiều cao).\n",
        "\n",
        "*   **Trực quan hóa (Visualization):**  Sử dụng biểu đồ thanh (bar graphs), biểu đồ tròn (pie charts) và biểu đồ phân tán (scatter plots).\n",
        "<br><br>\n",
        "\n"
      ],
      "metadata": {
        "id": "nRMrZv33x8lk"
      }
    },
    {
      "cell_type": "code",
      "source": [
        "#Xem kích thước của DataFrame\n",
        "data.shape"
      ],
      "metadata": {
        "id": "ixaLEBS1oYcK"
      },
      "execution_count": null,
      "outputs": []
    },
    {
      "cell_type": "code",
      "source": [
        "#Tóm tắt thông tin tổng quan của DataFrame\n",
        "data.info()"
      ],
      "metadata": {
        "id": "MiGV_CnCU4Cl"
      },
      "execution_count": null,
      "outputs": []
    },
    {
      "cell_type": "markdown",
      "source": [
        "**Ghi chú**\n",
        "\n",
        "**Số dòng (entries) trong DataFrame:** 768, đánh index từ 0 → 767.\n",
        "\n",
        "**Số cột:** 9 cột dữ liệu, bao gồm:\n",
        "\n",
        "**Kiểu dữ liệu của mỗi cột:** float64(2), int64(7)\n",
        "            \n",
        "\n",
        "*   2 cột kiểu float64 → **`BMI`**, **`DiabetesPedigreeFunction`**.\n",
        "*   7 cột kiểu int64.\n",
        "\n",
        "**Số lượng giá trị không bị thiếu (non-null values) trên mỗi cột:** Tất cả 9 cột đều có 768 giá trị, nghĩa là không có giá trị bị thiếu (NaN).\n",
        "\n",
        "**Dung lượng bộ nhớ mà DataFrame đang chiếm:** Bộ dữ liệu chiếm khoảng 54.1 KB bộ nhớ trong RAM.\n",
        "\n",
        "**Categorical**: `Outcome`\n",
        "\n",
        "**Numerical:**\n",
        "\n",
        "*   Discrete: `Pregnancies`.\n",
        "*   Continuous: `Age` (nhiều giá trị), `Glucose`, `BloodPressure`, `SkinThickness`, `Insulin`, `BMI`, `DiabetesPedigreeFunction`.\n",
        "\n"
      ],
      "metadata": {
        "id": "p-AZuHYXt8ao"
      }
    },
    {
      "cell_type": "code",
      "source": [
        "#Số dòng trùng trong data.\n",
        "data.duplicated().sum()"
      ],
      "metadata": {
        "id": "wJKpUz0F8_vE"
      },
      "execution_count": null,
      "outputs": []
    },
    {
      "cell_type": "code",
      "source": [
        "#Số giá trị NaN (thiếu) trong từng cột của DataFrame\n",
        "data.isnull().sum()"
      ],
      "metadata": {
        "id": "okX3Y9oE9gED"
      },
      "execution_count": null,
      "outputs": []
    },
    {
      "cell_type": "code",
      "source": [
        "# Kiểm tra kiểu dữ liệu ban đầu của Outcome\n",
        "print(data.dtypes[\"Outcome\"])\n"
      ],
      "metadata": {
        "id": "OYP4VvLe6nHg"
      },
      "execution_count": null,
      "outputs": []
    },
    {
      "cell_type": "code",
      "source": [
        "\n",
        "# Chuyển Outcome sang categorical\n",
        "data[\"Outcome\"] = data[\"Outcome\"].astype(\"category\")\n",
        "print(data.dtypes[\"Outcome\"])"
      ],
      "metadata": {
        "id": "RNUONgYL65lP"
      },
      "execution_count": null,
      "outputs": []
    },
    {
      "cell_type": "code",
      "source": [
        "data.info()"
      ],
      "metadata": {
        "id": "Tsb_IRb-68Al"
      },
      "execution_count": null,
      "outputs": []
    },
    {
      "cell_type": "markdown",
      "source": [
        "### **Phân bố giá trị của đặc trưng số trên toàn bộ các mẫu.**"
      ],
      "metadata": {
        "id": "e0G_tmTa5ieq"
      }
    },
    {
      "cell_type": "code",
      "source": [
        "#Tóm tắt thống kê cơ bản của các dữ liệu số trong DataFrame\n",
        "data.describe()"
      ],
      "metadata": {
        "id": "IzEDn0jJ5w5b"
      },
      "execution_count": null,
      "outputs": []
    },
    {
      "cell_type": "code",
      "source": [
        "#Tóm tắt thống kê của các cột kiểu category trong DataFrame\n",
        "data.describe(include=['category'])"
      ],
      "metadata": {
        "id": "N3DMCJ4m7pF5"
      },
      "execution_count": null,
      "outputs": []
    },
    {
      "cell_type": "markdown",
      "source": [
        "**Ghi chú**\n",
        "- **Tổng số mẫu (quan sát)**: 768  \n",
        "- **Cột `Outcome`**: gồm 2 giá trị duy nhất  \n",
        "  - `0` → Nhóm **khỏe mạnh**  \n",
        "  - `1` → Nhóm **tiểu đường**  \n",
        "- **Tần suất phổ biến nhất**:  \n",
        "  - `0` (khỏe mạnh) xuất hiện **500 lần** → chiếm đa số trong tập dữ liệu"
      ],
      "metadata": {
        "id": "KWMtHHTZQswx"
      }
    },
    {
      "cell_type": "markdown",
      "source": [
        "# **4. Phân tích và khám phá dữ liệu (Exploratory Data Analysis - EDA)**"
      ],
      "metadata": {
        "id": "HX9fvL9IZG6C"
      }
    },
    {
      "cell_type": "markdown",
      "source": [
        "#### **Target: `Outcome`**"
      ],
      "metadata": {
        "id": "0Egs-v_WfgyG"
      }
    },
    {
      "cell_type": "code",
      "source": [
        "#Đếm tần suất (số lần xuất hiện) của từng giá trị trong cột Outcome\n",
        "data[\"Outcome\"].value_counts().to_frame()"
      ],
      "metadata": {
        "id": "oAn9TgC2cfUi"
      },
      "execution_count": null,
      "outputs": []
    },
    {
      "cell_type": "markdown",
      "source": [
        "**Ghi chú**\n",
        "\n",
        "*   500 mẫu (người không mắc tiểu đường).\n",
        "*   268 mẫu (người mắc tiểu đường).\n",
        "<br>"
      ],
      "metadata": {
        "id": "BQfTJjVEjZZV"
      }
    },
    {
      "cell_type": "code",
      "source": [
        "# Tách dữ liệu theo Outcome\n",
        "\n",
        "# D: bệnh nhân bị tiểu đường (Outcome != 0)\n",
        "D = data[(data['Outcome'] != 0)]\n",
        "\n",
        "# H: bệnh nhân khỏe mạnh (Outcome == 0)\n",
        "H = data[(data['Outcome'] == 0)]\n"
      ],
      "metadata": {
        "id": "ZguOue8UfQiH"
      },
      "execution_count": null,
      "outputs": []
    },
    {
      "cell_type": "code",
      "source": [
        "def target_count():\n",
        "    # Dữ liệu\n",
        "    counts = data['Outcome'].value_counts().sort_index()  # giữ đúng thứ tự 0,1\n",
        "    labels = ['healthy','diabetic']\n",
        "\n",
        "    # Tạo biểu đồ\n",
        "    fig = go.Figure(\n",
        "        data = [\n",
        "            go.Bar(\n",
        "                x = labels,\n",
        "                y = counts.values,\n",
        "                text = counts.values,\n",
        "                textfont = dict(size=15),\n",
        "                textposition = 'auto',\n",
        "                opacity = 0.8,\n",
        "                width = 0.2,\n",
        "                marker = dict(\n",
        "                    color = ['#789DBC', '#FFE3E3'],\n",
        "                    line = dict(color='#000000', width=1.5)\n",
        "                )\n",
        "            )\n",
        "        ]\n",
        "    )\n",
        "\n",
        "    # Layout\n",
        "    fig.update_layout(\n",
        "        title = 'Count of Outcome variable',\n",
        "        xaxis_title = 'Outcome',\n",
        "        yaxis_title = 'Count',\n",
        "        height = 600\n",
        "    )\n",
        "\n",
        "    # Hiển thị\n",
        "    fig.show()"
      ],
      "metadata": {
        "id": "FoO5SbRffzib"
      },
      "execution_count": null,
      "outputs": []
    },
    {
      "cell_type": "code",
      "source": [
        "#Gọi hàm để hiển thị biểu đồ\n",
        "target_count()    # Biểu đồ số lượng"
      ],
      "metadata": {
        "id": "s6TS0EVDgpwP"
      },
      "execution_count": null,
      "outputs": []
    },
    {
      "cell_type": "code",
      "source": [
        "#tính tỷ lệ (%) của từng giá trị trong cột Outcome.\n",
        "data[\"Outcome\"].value_counts(normalize=True).to_frame()"
      ],
      "metadata": {
        "id": "PXGkUWV6dk1Y"
      },
      "execution_count": null,
      "outputs": []
    },
    {
      "cell_type": "markdown",
      "source": [
        "**Ghi chú**\n",
        "\n",
        "\n",
        "*   Nhóm không mắc tiểu đường chiếm 65.1% dữ liệu\n",
        "*   Nhóm mắc tiểu đường chiếm 34.9% dữ liệu\n",
        "<br>\n",
        "\n"
      ],
      "metadata": {
        "id": "Oo1NaaCOj7xy"
      }
    },
    {
      "cell_type": "code",
      "source": [
        "def target_percent():\n",
        "    # Tạo biểu đồ tròn từ cột \"Outcome\"\n",
        "    fig = px.pie(\n",
        "        data,\n",
        "        names=\"Outcome\",                        # Cột dùng để phân loại (0 = khỏe mạnh, 1 = bị bệnh)\n",
        "        title=\"Distribution of Outcome variable\",         # Tiêu đề biểu đồ\n",
        "        color=\"Outcome\",                        # Tô màu theo giá trị Outcome\n",
        "        color_discrete_map={0: \"#789DBC\", 1: \"#FFE3E3\"}  # Gán màu cụ thể cho từng nhóm\n",
        "    )\n",
        "\n",
        "    # Tùy chỉnh hiển thị\n",
        "    fig.update_traces(\n",
        "        textfont=dict(size=15),                 # Cỡ chữ hiển thị % bên trong biểu đồ\n",
        "        opacity=0.8,                            # Độ trong suốt của các lát cắt\n",
        "        marker=dict(\n",
        "            line=dict(color='#000000', width=1.5)  # Viền đen xung quanh từng lát\n",
        "        )\n",
        "    )\n",
        "\n",
        "    # Hiển thị biểu đồ\n",
        "    fig.show()"
      ],
      "metadata": {
        "id": "Zjd91z1agMnu"
      },
      "execution_count": null,
      "outputs": []
    },
    {
      "cell_type": "code",
      "source": [
        "#Gọi hàm để hiển thị biểu đồ tròn\n",
        "target_percent()"
      ],
      "metadata": {
        "id": "kPN6h5KliPeM"
      },
      "execution_count": null,
      "outputs": []
    },
    {
      "cell_type": "code",
      "source": [
        "def plot_distribution(data_select, size_bin):\n",
        "    \"\"\"\n",
        "    Hàm vẽ biểu đồ phân bố (histogram + density plot) cho một biến số,\n",
        "    so sánh hai nhóm dữ liệu: diabetic vs healthy\n",
        "\n",
        "    data_select : tên cột muốn vẽ\n",
        "    size_bin    : kích thước bin của histogram\n",
        "    \"\"\"\n",
        "    # Lấy dữ liệu từ 2 nhóm\n",
        "    tmp1 = D[data_select]  # Nhóm bệnh nhân tiểu đường\n",
        "    tmp2 = H[data_select]  # Nhóm người khỏe mạnh\n",
        "    hist_data = [tmp1, tmp2]\n",
        "\n",
        "    # Nhãn và màu sắc cho từng nhóm\n",
        "    group_labels = ['diabetic', 'healthy']\n",
        "    colors = ['#FF96AD', '#005A8D']\n",
        "\n",
        "    # Tạo biểu đồ phân bố\n",
        "    fig = ff.create_distplot(\n",
        "        hist_data,\n",
        "        group_labels,\n",
        "        colors=colors,\n",
        "        show_hist=True,\n",
        "        bin_size=size_bin,\n",
        "        curve_type='kde'\n",
        "    )\n",
        "\n",
        "    # Cập nhật tiêu đề\n",
        "    fig.update_layout(title=data_select)\n",
        "\n",
        "    # Hiển thị biểu đồ\n",
        "    fig.show()"
      ],
      "metadata": {
        "id": "4FVlSPqnxXDc"
      },
      "execution_count": null,
      "outputs": []
    },
    {
      "cell_type": "markdown",
      "source": [
        "#### **Variable: `Insulin`**"
      ],
      "metadata": {
        "id": "Kpmdd4AB8w6g"
      }
    },
    {
      "cell_type": "code",
      "source": [
        "#Gọi hàm tự plot_distribution để vẽ phân phối (distribution) của cột Insulin trong DataFrame\n",
        "plot_distribution('Insulin', 0)"
      ],
      "metadata": {
        "id": "btNREBC1xd5-"
      },
      "execution_count": null,
      "outputs": []
    },
    {
      "cell_type": "markdown",
      "source": [
        "**Ghi chú phân bố Insulin**\n",
        "\n",
        "**1. Phân bố:**  \n",
        "- Cả hai nhóm (khỏe mạnh và tiểu đường) đều có nồng độ Insulin chủ yếu ở mức thấp.  \n",
        "- Nhóm khỏe mạnh: phân phối tập trung, cao hơn ở mức thấp.  \n",
        "- Nhóm tiểu đường: phân phối phẳng, trải rộng hơn.\n",
        "\n",
        "**2. Sự trùng lặp:**  \n",
        "- Nồng độ Insulin của hai nhóm có sự chồng chéo lớn.  \n",
        "- Điều này cho thấy **chỉ dựa vào Insulin không thể phân biệt rõ ràng người mắc bệnh và người không mắc bệnh**.\n",
        "\n",
        "**3. Giá trị ngoại lệ:**  \n",
        "- Một số cá nhân trong nhóm tiểu đường có nồng độ Insulin cực kỳ cao (>800).  \n",
        "- Hiện tượng này không thấy ở nhóm khỏe mạnh.  \n",
        "\n",
        "**4. Kết luận:** Insulin có thể là một yếu tố để phân biệt giữa người khỏe mạnh và người tiểu đường, nhưng không phải là một yếu tố quyết định."
      ],
      "metadata": {
        "id": "QzSpxzz0sF3R"
      }
    },
    {
      "cell_type": "markdown",
      "source": [
        "####**Variable: `Glucose`**"
      ],
      "metadata": {
        "id": "TM39f1SX9Djg"
      }
    },
    {
      "cell_type": "code",
      "source": [
        "plot_distribution('Glucose', 0)"
      ],
      "metadata": {
        "id": "V6BtdQHux6g6"
      },
      "execution_count": null,
      "outputs": []
    },
    {
      "cell_type": "markdown",
      "source": [
        "**Ghi chú phân bố Glucose**\n",
        "\n",
        "**1. Phân bố:**  \n",
        "- Nhóm khỏe mạnh: nồng độ Glucose thấp hơn và tập trung hơn (đỉnh khoảng 105-109).  \n",
        "- Nhóm tiểu đường: phân bố rộng hơn, nồng độ trung bình cao hơn (đỉnh khoảng 120-129).\n",
        "\n",
        "**2. Sự phân biệt:**  \n",
        "- So với Insulin, Glucose là **chỉ số mạnh hơn** để phân biệt hai nhóm.  \n",
        "- Mặc dù có một số trùng lặp, hầu hết các giá trị Glucose cao đều thuộc về người mắc bệnh tiểu đường.\n",
        "\n",
        "**3. Kết luận:** Nồng độ Glucose là một yếu tố dự đoán rất mạnh cho bệnh tiểu đường."
      ],
      "metadata": {
        "id": "1oTC1O7Ltwu7"
      }
    },
    {
      "cell_type": "markdown",
      "source": [
        "####**Variable: `SkinThickness`**"
      ],
      "metadata": {
        "id": "jbHcbGO09POG"
      }
    },
    {
      "cell_type": "code",
      "source": [
        "plot_distribution('SkinThickness', 10)"
      ],
      "metadata": {
        "id": "PAfW3TuNyFmC"
      },
      "execution_count": null,
      "outputs": []
    },
    {
      "cell_type": "markdown",
      "source": [
        "**Ghi chú phân bố SkinThickness**\n",
        "\n",
        "**1. Phân bố:**  \n",
        "- Cả hai nhóm (khỏe mạnh và tiểu đường) đều có phân bố tương đối giống nhau.  \n",
        "- Sự trùng lặp giữa hai nhóm là **rất lớn**.\n",
        "\n",
        "**2. Sự phân biệt:**  \n",
        "- Chỉ số **SkinThickness không đủ mạnh** để phân biệt hai nhóm.  \n",
        "- Không có sự khác biệt rõ rệt về độ dày da giữa người mắc bệnh và người không mắc bệnh.\n",
        "\n",
        "**3. Kết luận:**  \n",
        "- Độ dày da là một **chỉ số yếu** và **không nên dùng độc lập** để chẩn đoán bệnh tiểu đường.\n"
      ],
      "metadata": {
        "id": "xTlbVzjLxLQe"
      }
    },
    {
      "cell_type": "markdown",
      "source": [
        "####**Variable: `BloodPressure`**"
      ],
      "metadata": {
        "id": "5oDIryZT9Zj0"
      }
    },
    {
      "cell_type": "code",
      "source": [
        "plot_distribution('BloodPressure', 5)"
      ],
      "metadata": {
        "id": "wu4X6PriyW2J"
      },
      "execution_count": null,
      "outputs": []
    },
    {
      "cell_type": "markdown",
      "source": [
        "**Ghi chú phân bố BloodPressure**\n",
        "\n",
        "**1. Phân bố:**  \n",
        "- Nhóm tiểu đường có huyết áp trung bình cao hơn một chút so với nhóm khỏe mạnh.  \n",
        "- Tuy nhiên, sự khác biệt này **không rõ ràng**.\n",
        "\n",
        "**2. Trùng lặp:**  \n",
        "- Có **sự trùng lặp rất lớn** giữa hai nhóm.  \n",
        "- Điều này khiến huyết áp **không hiệu quả** để phân biệt hai nhóm.\n",
        "\n",
        "**3. Giá trị bất thường:**  \n",
        "- Một số trường hợp có huyết áp gần bằng 0, **có thể là lỗi dữ liệu**.\n",
        "\n",
        "**4. Kết luận:**  \n",
        "- Mặc dù nhóm tiểu đường có xu hướng huyết áp cao hơn,  \n",
        "- **Sự trùng lặp lớn** cho thấy chỉ số này **không đủ mạnh** để phân biệt bệnh nhân và người khỏe mạnh.\n"
      ],
      "metadata": {
        "id": "2iTt7AXXyTrg"
      }
    },
    {
      "cell_type": "markdown",
      "source": [
        "####**Variable: `BMI`**"
      ],
      "metadata": {
        "id": "scVp3EVm9jB2"
      }
    },
    {
      "cell_type": "code",
      "source": [
        "plot_distribution('BMI', 0)"
      ],
      "metadata": {
        "id": "n-0sqN4RzmjC"
      },
      "execution_count": null,
      "outputs": []
    },
    {
      "cell_type": "markdown",
      "source": [
        "**Ghi chú phân bố BMI**\n",
        "\n",
        "**1. Phân bố:**  \n",
        "- Nhóm tiểu đường có **BMI trung bình cao hơn rõ rệt** so với nhóm khỏe mạnh.  \n",
        "- Đỉnh phân phối của nhóm tiểu đường dịch chuyển sang phải, thể hiện **mối liên hệ giữa BMI cao và bệnh tiểu đường**.\n",
        "\n",
        "**2. Trùng lặp:**  \n",
        "- Mặc dù có sự trùng lặp, **sự khác biệt về vị trí đỉnh phân phối vẫn rõ ràng**, cho thấy BMI là **chỉ số phân biệt tốt** giữa hai nhóm.\n",
        "\n",
        "**3. Điểm ngoại lệ:**  \n",
        "- Tỷ lệ người có **BMI rất cao** ở nhóm tiểu đường lớn hơn nhiều so với nhóm khỏe mạnh.\n",
        "\n",
        "**4. Kết luận:**  \n",
        "- **BMI càng cao, nguy cơ mắc bệnh tiểu đường càng lớn.**  \n",
        "- Đây là một **chỉ số mạnh** để dự đoán bệnh, đặc biệt khi kết hợp với các yếu tố khác như Glucose.\n"
      ],
      "metadata": {
        "id": "D5p7aoWg0Omd"
      }
    },
    {
      "cell_type": "markdown",
      "source": [
        "####**Variable: `Age`**"
      ],
      "metadata": {
        "id": "9oR15ObORWKb"
      }
    },
    {
      "cell_type": "code",
      "source": [
        "plot_distribution('Age', 0)"
      ],
      "metadata": {
        "id": "3Um73dmv8Qyw"
      },
      "execution_count": null,
      "outputs": []
    },
    {
      "cell_type": "markdown",
      "source": [
        "**Ghi chú phân bố Age**\n",
        "\n",
        "**1. Phân bố:**  \n",
        "- Nhóm khỏe mạnh chủ yếu là người trẻ (đỉnh ở 20-30 tuổi).  \n",
        "- Nhóm tiểu đường có phân bố rộng hơn và dịch chuyển sang tuổi cao hơn (đỉnh ở 30-45 tuổi).\n",
        "\n",
        "**2. Mối liên hệ:**  \n",
        "- **Tuổi càng cao, nguy cơ mắc bệnh tiểu đường càng lớn.**  \n",
        "- Tỉ lệ mắc bệnh tăng dần theo tuổi, đặc biệt sau 30 tuổi.\n",
        "\n",
        "**3. Kết luận:**  \n",
        "- Tuổi tác **không phải là chỉ số quyết định duy nhất**, nhưng là yếu tố quan trọng kết hợp với các chỉ số khác như Glucose và BMI sẽ giúp **tăng độ chính xác**.\n"
      ],
      "metadata": {
        "id": "v5rOvg9N1YnC"
      }
    },
    {
      "cell_type": "markdown",
      "source": [
        "####**Variable: `Pregnancies`**"
      ],
      "metadata": {
        "id": "nIet1yORzzT4"
      }
    },
    {
      "cell_type": "code",
      "source": [
        "plot_distribution('Pregnancies', 0)"
      ],
      "metadata": {
        "id": "Tee9Qt8fzjF8"
      },
      "execution_count": null,
      "outputs": []
    },
    {
      "cell_type": "markdown",
      "source": [
        "**Ghi chú phân bố Pregnancies**\n",
        "\n",
        "**1. Phân bố:**  \n",
        "- Nhóm khỏe mạnh có đỉnh phân phối cao ở **1 lần mang thai**.  \n",
        "- Nhóm tiểu đường có phân bố **rộng hơn và phẳng hơn**.\n",
        "\n",
        "**2. Mối liên hệ:**  \n",
        "- Tỷ lệ mắc bệnh tiểu đường **cao hơn ở phụ nữ có nhiều lần mang thai** (từ 6 lần trở lên).\n",
        "\n",
        "**3. Điểm ngoại lệ:**  \n",
        "- Nhóm tiểu đường có các trường hợp **số lần mang thai rất cao** (lên đến 17), không xuất hiện ở nhóm khỏe mạnh.\n",
        "\n",
        "**4. Kết luận:**  \n",
        "- Mặc dù có sự trùng lặp, **số lần mang thai vẫn là yếu tố hữu ích**,  \n",
        "- Đặc biệt khi kết hợp với các chỉ số mạnh hơn như **Glucose và BMI** để dự đoán nguy cơ mắc bệnh.\n"
      ],
      "metadata": {
        "id": "mlTK6sSF42Ko"
      }
    },
    {
      "cell_type": "markdown",
      "source": [
        "####**Variable: `DiabetesPedigreeFunction`**"
      ],
      "metadata": {
        "id": "Z_XDn36Vz7Rf"
      }
    },
    {
      "cell_type": "code",
      "source": [
        "plot_distribution('DiabetesPedigreeFunction', 0)"
      ],
      "metadata": {
        "id": "XB0Ihi7yzlU3"
      },
      "execution_count": null,
      "outputs": []
    },
    {
      "cell_type": "markdown",
      "source": [
        "**Ghi chú phân bố DiabetesPedigreeFunction (DPF)**\n",
        "\n",
        "**1. Lệch phải:**  \n",
        "- Cả hai nhóm đều có đa số giá trị DPF **tập trung ở mức thấp**, cho thấy phần lớn không có tiền sử gia đình mạnh về bệnh tiểu đường.\n",
        "\n",
        "**2. Đỉnh phân phối:**  \n",
        "- Nhóm khỏe mạnh: đỉnh cao hơn và tập trung ở **DPF rất thấp** (gần 0).  \n",
        "- Nhóm tiểu đường: đỉnh thấp hơn và dịch chuyển sang phải, thể hiện **xu hướng có tiền sử gia đình về bệnh**.\n",
        "\n",
        "**3. Trùng lặp:**  \n",
        "- Hai nhóm có **sự trùng lặp lớn** về giá trị DPF, khiến phân biệt chỉ dựa vào chỉ số này **khó khăn**.\n",
        "\n",
        "**4. Mối liên hệ:**  \n",
        "- Khi **DPF tăng lên**, tỷ lệ người mắc bệnh tiểu đường cũng **tăng đáng kể**, đặc biệt ở mức **DPF ≥ 0.5**.\n",
        "\n",
        "**5. Ngoại lệ:**  \n",
        "- Nhóm tiểu đường có các giá trị DPF rất cao (lên đến 2.5), cho thấy **tiền sử gia đình mạnh là yếu tố nguy cơ đáng kể**.\n",
        "\n",
        "**6. Kết luận:**  \n",
        "- DPF là một **yếu tố dự đoán hữu ích**, đặc biệt khi giá trị cao.  \n",
        "- Mặc dù có sự trùng lặp, biểu đồ vẫn cho thấy **mối liên hệ rõ ràng giữa tiền sử gia đình và nguy cơ mắc bệnh**."
      ],
      "metadata": {
        "id": "TtL96L8w8GYl"
      }
    },
    {
      "cell_type": "code",
      "source": [
        "#Vẽ nhiều boxplot cho tất cả các cột số trong DataFrame\n",
        "numeric_columns = data.select_dtypes(include=\"number\").columns\n",
        "\n",
        "n_cols = 3\n",
        "n_rows = (len(numeric_columns) + n_cols - 1) // n_cols\n",
        "\n",
        "fig, axes = plt.subplots(nrows=n_rows, ncols=n_cols, figsize=(4 * n_cols, 4 * n_rows))\n",
        "axes = axes.flatten()\n",
        "\n",
        "for i, col in enumerate(numeric_columns):\n",
        "    sns.boxplot(y=data[col], ax=axes[i], color='#789DBC')  # dùng color thay cho palette\n",
        "    axes[i].set_title(f\"Boxplot of {col}\")\n",
        "\n",
        "# Ẩn các ô trống thừa\n",
        "for j in range(len(numeric_columns), len(axes)):\n",
        "    axes[j].set_visible(False)\n",
        "\n",
        "plt.tight_layout()\n",
        "plt.show()"
      ],
      "metadata": {
        "id": "c9C7zR99-P4T"
      },
      "execution_count": null,
      "outputs": []
    },
    {
      "cell_type": "markdown",
      "source": [
        "**Ghi chú**\n",
        "\n",
        "- **Phân bố đồng đều**:  \n",
        "  Các chỉ số **`Glucose`**, **`BMI`**, và **`Age`** có phân bố tương đối tập trung và sạch, cho thấy chúng là các chỉ số có giá trị cao để phân tích.  \n",
        "\n",
        "- **Nhiều giá trị ngoại lệ**:  \n",
        "  Ngược lại, **`Insulin`** và **`DiabetesPedigreeFunction`** có rất nhiều giá trị ngoại lệ, cho thấy dữ liệu của hai chỉ số này phân tán mạnh và có thể cần làm sạch trước khi phân tích.  \n",
        "\n",
        "- **Giá trị bất thường**:  \n",
        "  Một số chỉ số như **`BloodPressure`**, **`Glucose`**, **`BMI`**, **`SkinThickness`**, **`Insulin`** có các giá trị **0**, đây có thể là lỗi dữ liệu cần được xử lý.\n"
      ],
      "metadata": {
        "id": "I6mJBBnRCI5R"
      }
    },
    {
      "cell_type": "code",
      "source": [
        "index = 0\n",
        "plt.figure(figsize=(20,20))\n",
        "for feature in data.columns:\n",
        "    if feature != \"Outcome\":\n",
        "        index += 1\n",
        "        plt.subplot(3,3,index)\n",
        "        sns.boxplot(x='Outcome', y=feature, data=data,\n",
        "                    hue='Outcome', palette=['#789DBC', '#FFE3E3'], legend=False)\n",
        "plt.show()\n"
      ],
      "metadata": {
        "id": "zy3HyyaDBsvy"
      },
      "execution_count": null,
      "outputs": []
    },
    {
      "cell_type": "markdown",
      "source": [
        "**Ghi chú**\n",
        "\n",
        "- **Chỉ số dự đoán mạnh**:  \n",
        "  - **`Glucose`**, **`BMI`**, **`Age`**, và **`Pregnancies`**  \n",
        "  - Các hộp và giá trị trung vị của nhóm **tiểu đường** cao hơn hẳn so với nhóm **khỏe mạnh**  \n",
        "  → Cho thấy mối liên hệ chặt chẽ với bệnh tiểu đường.  \n",
        "\n",
        "- **Chỉ số dự đoán yếu**:  \n",
        "  - **`BloodPressure`**, **`Insulin`**, và **`SkinThickness`**  \n",
        "  - Có sự trùng lặp lớn giữa hai nhóm  \n",
        "  → Không phải là yếu tố phân biệt hiệu quả.  \n",
        "\n",
        "- **Điểm bất thường**:  \n",
        "  - Xuất hiện các giá trị **không hợp lý (0)** ở **`Glucose`**, **`BloodPressure`**, **`BMI`**  \n",
        "  - Nhiều giá trị **ngoại lệ rất cao** ở **`Insulin`**, **`DiabetesPedigreeFunction`**, và **`BMI`**  \n",
        "  → Cần được xử lý và làm sạch trước khi phân tích."
      ],
      "metadata": {
        "id": "Fx4irAk5GHwo"
      }
    },
    {
      "cell_type": "markdown",
      "source": [
        "#### **Ma trận tương quan**"
      ],
      "metadata": {
        "id": "zlzRK7zeFYxa"
      }
    },
    {
      "cell_type": "markdown",
      "source": [
        "*Ma trận tương quan (Correlation Matrix) là một bảng hiển thị các hệ số tương quan giữa các tập hợp biến. Mỗi biến ngẫu nhiên (Xi) trong bảng được so sánh tương quan với từng giá trị khác trong bảng (Xj). Điều này giúp bạn thấy được các cặp biến nào có mức tương quan cao nhất.*"
      ],
      "metadata": {
        "id": "BAIVs6Af1wM3"
      }
    },
    {
      "cell_type": "code",
      "source": [
        "def correlation_plot(data):\n",
        "    \"\"\"\n",
        "    Hiển thị ma trận tương quan giữa các biến số trong DataFrame.\n",
        "    \"\"\"\n",
        "    # Tính ma trận tương quan (correlation) giữa các cột numerical\n",
        "    corr = data.corr()\n",
        "\n",
        "    # Làm tròn giá trị để hiển thị trên ô (2 chữ số thập phân)\n",
        "    corr_rounded = corr.round(2)\n",
        "\n",
        "    # Tạo heatmap bằng Plotly\n",
        "    fig = go.Figure(\n",
        "        go.Heatmap(\n",
        "            z=corr.values,               # Giá trị đầy đủ cho hover\n",
        "            x=corr.columns,              # Nhãn cột trên trục X\n",
        "            y=corr.columns,              # Nhãn cột trên trục Y\n",
        "            colorscale='RdBu',           # Bảng màu đỏ-xanh\n",
        "            zmin=-1, zmax=1,             # Giới hạn giá trị tương quan\n",
        "            text=corr_rounded.values,    # Số hiển thị trực tiếp trên ô\n",
        "            texttemplate=\"%{text}\",      # Template hiển thị text\n",
        "            textfont={\"size\":10},        # Kích thước chữ trên ô\n",
        "            colorbar=dict(title=\"Correlation\")  # Chú thích màu\n",
        "        )\n",
        "    )\n",
        "\n",
        "    # Cập nhật layout cho figure\n",
        "    fig.update_layout(\n",
        "        title=\"Correlation Matrix for Variables\",  # Tiêu đề biểu đồ\n",
        "        xaxis=dict(tickangle=45),                  # Xoay nhãn trục X 45 độ\n",
        "        yaxis=dict(autorange=\"reversed\"),         # Đảo trục Y để hiển thị từ trên xuống\n",
        "        height=600                                 # Chiều cao figure\n",
        "    )\n",
        "\n",
        "    # Hiển thị biểu đồ\n",
        "    fig.show()"
      ],
      "metadata": {
        "id": "i7wDlwkiPGTD"
      },
      "execution_count": null,
      "outputs": []
    },
    {
      "cell_type": "code",
      "source": [
        "#Gọi hàm correlation_plot\n",
        "correlation_plot(data)"
      ],
      "metadata": {
        "id": "fQPbF_6NPKdr"
      },
      "execution_count": null,
      "outputs": []
    },
    {
      "cell_type": "markdown",
      "source": [
        "**Ghi chú**<br>\n",
        "\n",
        "\n",
        "*   **`Glucose`** có tương quan cao nhất với **`Outcome`** (0.49) → yếu tố quan trọng nhất để dự đoán tiểu đường.\n",
        "\n",
        "*   **`BMI`** (0.31), **`Insulin`** (0.30), **`SkinThickness`** (0.26), **`Age`** (0.24), **`Pregnancies`** (0.22) → có ảnh hưởng mức vừa.\n",
        "\n",
        "*   **`BloodPressure`** và **`DiabetesPedigreeFunction`** → tương quan rất yếu với Outcome.\n",
        "*   **`SkinThickness`** – **`BMI`** (0.65), **`Glucose`** – **`Insulin`** (0.58), **`Age`** – **`Pregnancies`** (0.54) → có tương quan khá mạnh.\n",
        "\n",
        "\n",
        "*  **Nhận xét:** Glucose là biến dự báo quan trọng nhất, BMI và Insulin cũng đáng chú ý; các yếu tố khác tác động yếu hơn."
      ],
      "metadata": {
        "id": "5OWJhVxH3W0X"
      }
    },
    {
      "cell_type": "markdown",
      "source": [
        "#**5. Tiền xử lý dữ liệu**"
      ],
      "metadata": {
        "id": "Co4Ng7T-ltbV"
      }
    },
    {
      "cell_type": "markdown",
      "source": [
        "### **Giá trị bị thiếu**"
      ],
      "metadata": {
        "id": "oblAB7Eemioe"
      }
    },
    {
      "cell_type": "markdown",
      "source": [
        "*Một số cột có giá trị 0, nhưng về mặt ý nghĩa thì không hợp lý (ví dụ: huyết áp, độ dày da, insulin, BMI…), nên 0 thực chất là giá trị thiếu (missing value).*<br>\n",
        "*Lý do: giá trị 0 không hợp lý trong dữ liệu y tế. Thay bằng np.nan để biểu thị dữ liệu bị thiếu và xử lý sau này*"
      ],
      "metadata": {
        "id": "2fcT3EKh3C-D"
      }
    },
    {
      "cell_type": "code",
      "source": [
        "#Thay thế giá trị 0 bằng nan cho các cột 'Glucose','BloodPressure','SkinThickness','Insulin','BMI'\n",
        "data[['Glucose','BloodPressure','SkinThickness','Insulin','BMI']] = data[['Glucose','BloodPressure','SkinThickness','Insulin','BMI']].replace(0,np.nan)"
      ],
      "metadata": {
        "id": "uhEIOyGwnSat"
      },
      "execution_count": null,
      "outputs": []
    },
    {
      "cell_type": "code",
      "source": [
        "#Hàm vẽ biểu đồ cột kiểm tra giá trị thiếu trong dataset.\n",
        "def missing_plot(dataset, keys):\n",
        "    \"\"\"\n",
        "    - dataset: DataFrame chứa dữ liệu\n",
        "    - keys: tên cột hoặc danh sách cột muốn kiểm tra\n",
        "    \"\"\"\n",
        "\n",
        "    # Nếu chỉ là 1 cột, chuyển thành danh sách để xử lý đồng nhất\n",
        "    if isinstance(keys, str):\n",
        "        keys = [keys]\n",
        "\n",
        "    # Tính số lượng giá trị không thiếu cho từng cột\n",
        "    not_null_count = dataset[keys].notnull().sum()\n",
        "\n",
        "    # Tính tỷ lệ phần trăm giá trị thiếu\n",
        "    missing_percent = (dataset[keys].isnull().sum() / len(dataset) * 100).round(2)\n",
        "\n",
        "    # Tạo biểu đồ cột với Plotly\n",
        "    fig = go.Figure(\n",
        "        data = [\n",
        "            go.Bar(\n",
        "                x = keys,                                   # Tên các cột\n",
        "                y = not_null_count.values,                  # Số lượng giá trị không thiếu\n",
        "                text = missing_percent.astype(str) + '%',   # Hiển thị % giá trị thiếu\n",
        "                textposition = 'auto',                      # Vị trí text trên cột\n",
        "                opacity = 0.8,                              # Độ mờ của cột\n",
        "                marker = dict(\n",
        "                    color = '#789DBC',                      # Màu cột\n",
        "                    line = dict(color='#000000', width=1.5) # Viền cột màu đen\n",
        "                )\n",
        "            )\n",
        "        ]\n",
        "    )\n",
        "\n",
        "    # Cài đặt layout cho biểu đồ\n",
        "    fig.update_layout(\n",
        "        title = \"Missing Values\",\n",
        "        xaxis_title = \"Features\",\n",
        "        yaxis_title = \"Count\",\n",
        "        height = 600\n",
        "    )\n",
        "\n",
        "    # Hiển thị biểu đồ\n",
        "    fig.show()"
      ],
      "metadata": {
        "id": "ysgKdNPTp9pB"
      },
      "execution_count": null,
      "outputs": []
    },
    {
      "cell_type": "code",
      "source": [
        "#Gọi hàm để hiển thị missing plot\n",
        "missing_plot(data, data.columns) # Dataset là data và muốn kiểm tra tất cả cột"
      ],
      "metadata": {
        "id": "gdGwZ7NYqP3n"
      },
      "execution_count": null,
      "outputs": []
    },
    {
      "cell_type": "markdown",
      "source": [
        "**Ghi chú**:\n",
        "\n",
        "*   **Glucose:** 5 giá trị thiếu (0.65%)\n",
        "\n",
        "*   **BloodPressure:** 35 giá trị thiếu (4.56%)\n",
        "\n",
        "*   **SkinThickness:** 227 giá trị thiếu (29.56%)\n",
        "\n",
        "*   **Insulin:** 374 giá trị thiếu (48.7%)\n",
        "\n",
        "*   **BMI:** 11 giá trị thiếu (1.43%)<br>\n",
        "\n",
        "\n",
        "\n",
        "\n",
        "\n",
        "\n",
        "\n",
        "\n",
        "\n"
      ],
      "metadata": {
        "id": "-J5pet5X6E8j"
      }
    },
    {
      "cell_type": "code",
      "source": [
        "def overview_boxplot_modern(data):\n",
        "    \"\"\"\n",
        "    Vẽ boxplot tổng quan cho tất cả các biến số trong DataFrame.\n",
        "    \"\"\"\n",
        "    # Style hiện đại, nền sáng\n",
        "    sns.set_theme(style=\"whitegrid\")\n",
        "\n",
        "    # Tạo figure và axes\n",
        "    plt.figure(figsize=(12, 8))\n",
        "\n",
        "    # Vẽ boxplot ngang, tự động scale trục X theo dữ liệu\n",
        "    sns.boxplot(data=data, orient='v', palette='Blues')\n",
        "\n",
        "    # Tiêu đề và nhãn trục\n",
        "    plt.title(\"Overview of Data Set\", fontsize=16)\n",
        "    plt.xlabel(\"Values\")\n",
        "    plt.ylabel(\"Variables\")\n",
        "\n",
        "    # Hiển thị\n",
        "    plt.tight_layout()\n",
        "    plt.show()"
      ],
      "metadata": {
        "id": "fDFEk5WrtdWV"
      },
      "execution_count": null,
      "outputs": []
    },
    {
      "cell_type": "code",
      "source": [
        "overview_boxplot_modern(data)"
      ],
      "metadata": {
        "id": "oh9MemmMvMI_"
      },
      "execution_count": null,
      "outputs": []
    },
    {
      "cell_type": "markdown",
      "source": [
        "**Ghi chú**\n",
        "*Tất cả các giá trị 0 đã được thay thành NaN.*"
      ],
      "metadata": {
        "id": "iGQ2phjeCElM"
      }
    },
    {
      "cell_type": "markdown",
      "source": [
        "### **Thay giá trị NaN**"
      ],
      "metadata": {
        "id": "P17IlD4jLehZ"
      }
    },
    {
      "cell_type": "markdown",
      "source": [
        "**Giá trị NaN trong dữ liệu có thể được xử lý bằng nhiều cách:**\n",
        "\n",
        "**1.   Xóa hoặc thay thế trực tiếp**\n",
        "\n",
        "\n",
        "*   Xóa hàng hoặc cột chứa NaN.\n",
        "*   Thay bằng giá trị cố định, ví dụ 0 hoặc 'unknown'.\n",
        "\n",
        "\n",
        "**2.   Thay thế theo đặc tính dữ liệu**\n",
        "\n",
        "\n",
        "*   **`Dữ liệu số: dùng trung bình (mean) hoặc trung vị (median).`**\n",
        "*   Dữ liệu phân loại: dùng giá trị xuất hiện nhiều nhất (mode).\n",
        "\n",
        "\n",
        "**3.   Phương pháp nâng cao**\n",
        "\n",
        "\n",
        "*   Dự đoán giá trị thiếu bằng mô hình.\n",
        "*   Thay theo nhóm (group-wise imputation).\n",
        "\n",
        "\n",
        "*   Nội suy (interpolation) cho dữ liệu theo thời gian.\n",
        "<br>\n"
      ],
      "metadata": {
        "id": "MIA6rjinJpud"
      }
    },
    {
      "cell_type": "markdown",
      "source": [
        "Để điền các giá trị NaN này, cần hiểu phân phối dữ liệu theo **`Outcome`**.\n"
      ],
      "metadata": {
        "id": "P5RmcwgO_r20"
      }
    },
    {
      "cell_type": "markdown",
      "source": [
        "**Phân bố dữ liệu (distribution):** cách các giá trị của một đặc trưng (feature) được sắp xếp, trải rộng ra sao (ví dụ: trung bình, min, max, hình dạng histogram).\n",
        "\n",
        "**Biến mục tiêu (target):** cột muốn dự đoán, trong bài này là Outcome (0 = không tiểu đường, 1 = tiểu đường).\n",
        "\n",
        "**Phân bố dữ liệu so với biến mục tiêu, tức là:** so sánh cách phân bố của một feature giữa các nhóm khác nhau của target.\n",
        "\n",
        "**Ví dụ:**\n",
        "\n",
        "Trong dataset: Glucose là feature. Outcome (0 = khỏe, 1 = bệnh tiểu đường) là target.\n",
        "\n",
        "So sánh phân bố Glucose giữa Outcome = 0 và Outcome = 1 giúp thấy liệu nồng độ Glucose có liên quan đến bệnh không.\n",
        "<br><br>"
      ],
      "metadata": {
        "id": "QOgY0bwrEfkF"
      }
    },
    {
      "cell_type": "markdown",
      "source": [
        "### **Thay thế NaN bằng giá trị trung vị theo nhóm** **`Outcome`**"
      ],
      "metadata": {
        "id": "KqygbbzIQhuK"
      }
    },
    {
      "cell_type": "markdown",
      "source": [
        "*Giữ sự khác biệt giữa các nhóm, điền median riêng cho nhóm Outcome 0 và Outcome 1.*\n",
        "\n",
        "*Điều này giúp duy trì sự khác biệt đặc trưng giữa nhóm khỏe mạnh và nhóm bệnh, trong khi mean của toàn bộ dữ liệu sẽ làm “mềm” sự khác biệt này*  "
      ],
      "metadata": {
        "id": "yheYWnRQFW7A"
      }
    },
    {
      "cell_type": "code",
      "source": [
        "def median_target(var):\n",
        "    '''Tính giá trị trung vị (median) của một biến theo từng nhóm Outcome'''\n",
        "    temp = data[data[var].notnull()]  # lọc giá trị hợp lệ\n",
        "    temp = (\n",
        "        temp[[var, 'Outcome']]\n",
        "        .groupby(['Outcome'], observed=False)[[var]]  # thêm observed=False\n",
        "        .median()\n",
        "        .reset_index()\n",
        "    )\n",
        "    return temp"
      ],
      "metadata": {
        "id": "6c9b6UXpxE7g"
      },
      "execution_count": null,
      "outputs": []
    },
    {
      "cell_type": "markdown",
      "source": [
        "#### **`Insulin`**"
      ],
      "metadata": {
        "id": "49vtkx6aMXbG"
      }
    },
    {
      "cell_type": "code",
      "source": [
        "#Gọi hàm tính giá trị trung vị (median) của cột Insulin trong từng nhóm Outcome\n",
        "median_target('Insulin')"
      ],
      "metadata": {
        "id": "xROHPu_lxuqV"
      },
      "execution_count": null,
      "outputs": []
    },
    {
      "cell_type": "code",
      "source": [
        "#Điền giá trị thiếu (NaN) cho cột Insulin dựa trên trung vị của từng nhóm Outcome\n",
        "\n",
        "# Nhóm Outcome = 0, điền NaN bằng median nhóm này\n",
        "data.loc[(data['Outcome'] == 0) & (data['Insulin'].isnull()), 'Insulin'] = 102.5\n",
        "\n",
        "# Nhóm Outcome = 1, điền NaN bằng median nhóm này\n",
        "data.loc[(data['Outcome'] == 1) & (data['Insulin'].isnull()), 'Insulin'] = 169.5"
      ],
      "metadata": {
        "id": "BPgf-B2qx1hr"
      },
      "execution_count": null,
      "outputs": []
    },
    {
      "cell_type": "markdown",
      "source": [
        "#### **`Glucose`**"
      ],
      "metadata": {
        "id": "G7QSlyGFMu2A"
      }
    },
    {
      "cell_type": "code",
      "source": [
        "#Gọi hàm tính giá trị trung vị (median) của cột Glucose trong từng nhóm Outcome\n",
        "median_target('Glucose')"
      ],
      "metadata": {
        "id": "Jl9Nz4Mvx8tU"
      },
      "execution_count": null,
      "outputs": []
    },
    {
      "cell_type": "code",
      "source": [
        "#Điền giá trị thiếu (NaN) cho cột Glucoso dựa trên trung vị của từng nhóm Outcome\n",
        "\n",
        "# Nhóm Outcome = 0, điền NaN bằng median nhóm này\n",
        "data.loc[(data['Outcome'] == 0 ) & (data['Glucose'].isnull()), 'Glucose'] = 107\n",
        "\n",
        "# Nhóm Outcome = 1, điền NaN bằng median nhóm này\n",
        "data.loc[(data['Outcome'] == 1 ) & (data['Glucose'].isnull()), 'Glucose'] = 140"
      ],
      "metadata": {
        "id": "N0yFtJb6yD-I"
      },
      "execution_count": null,
      "outputs": []
    },
    {
      "cell_type": "markdown",
      "source": [
        "#### **`SkinThickness`**"
      ],
      "metadata": {
        "id": "jYQmgBNSNrea"
      }
    },
    {
      "cell_type": "code",
      "source": [
        "#Gọi hàm tính giá trị trung vị (median) của cột SkinThickness trong từng nhóm Outcome\n",
        "median_target('SkinThickness')"
      ],
      "metadata": {
        "id": "UsGCgELEyJmR"
      },
      "execution_count": null,
      "outputs": []
    },
    {
      "cell_type": "code",
      "source": [
        "#Điền giá trị thiếu (NaN) cho cột  SkinThickness dựa trên trung vị của từng nhóm Outcome\n",
        "\n",
        "# Nhóm Outcome = 0, điền NaN bằng median nhóm này\n",
        "data.loc[(data['Outcome'] == 0 ) & (data['SkinThickness'].isnull()), 'SkinThickness'] = 27\n",
        "\n",
        "# Nhóm Outcome = 1, điền NaN bằng median nhóm này\n",
        "data.loc[(data['Outcome'] == 1 ) & (data['SkinThickness'].isnull()), 'SkinThickness'] = 32"
      ],
      "metadata": {
        "id": "7K6sP2-byQbe"
      },
      "execution_count": null,
      "outputs": []
    },
    {
      "cell_type": "markdown",
      "source": [
        "**`BloodPressure`**"
      ],
      "metadata": {
        "id": "LYicb2qkOUMs"
      }
    },
    {
      "cell_type": "code",
      "source": [
        "#Gọi hàm tính giá trị trung vị (median) của cột BloodPressure trong từng nhóm Outcome\n",
        "median_target('BloodPressure')"
      ],
      "metadata": {
        "id": "MazTdngDzZcD"
      },
      "execution_count": null,
      "outputs": []
    },
    {
      "cell_type": "code",
      "source": [
        "#Điền giá trị thiếu (NaN) cho cột  BloodPressure dựa trên trung vị của từng nhóm Outcome\n",
        "\n",
        "# Nhóm Outcome = 0, điền NaN bằng median nhóm này\n",
        "data.loc[(data['Outcome'] == 0 ) & (data['BloodPressure'].isnull()), 'BloodPressure'] = 70\n",
        "\n",
        "# Nhóm Outcome = 1, điền NaN bằng median nhóm này\n",
        "data.loc[(data['Outcome'] == 1 ) & (data['BloodPressure'].isnull()), 'BloodPressure'] = 74.5"
      ],
      "metadata": {
        "id": "2WrH6mT4zhP9"
      },
      "execution_count": null,
      "outputs": []
    },
    {
      "cell_type": "markdown",
      "source": [
        "#### **`BMI`**"
      ],
      "metadata": {
        "id": "FZQJOidwO-aD"
      }
    },
    {
      "cell_type": "code",
      "source": [
        "#Gọi hàm tính giá trị trung vị (median) của cột BMI trong từng nhóm Outcome\n",
        "median_target('BMI')"
      ],
      "metadata": {
        "id": "e_PotFaN8Hsa"
      },
      "execution_count": null,
      "outputs": []
    },
    {
      "cell_type": "code",
      "source": [
        "#Điền giá trị thiếu (NaN) cho cột  BMI dựa trên trung vị của từng nhóm Outcome\n",
        "\n",
        "# Nhóm Outcome = 0, điền NaN bằng median nhóm này\n",
        "data.loc[(data['Outcome'] == 0 ) & (data['BMI'].isnull()), 'BMI'] = 30.1\n",
        "\n",
        "# Nhóm Outcome = 1, điền NaN bằng median nhóm này\n",
        "data.loc[(data['Outcome'] == 1 ) & (data['BMI'].isnull()), 'BMI'] = 34.3"
      ],
      "metadata": {
        "id": "9Eip5oy48NMg"
      },
      "execution_count": null,
      "outputs": []
    },
    {
      "cell_type": "code",
      "source": [
        "#Gọi hàm missing plot để kiểm tra giá trị thiếu trong dataset sau khi thay giá trị NaN\n",
        "missing_plot(data, keys=data.columns.tolist())"
      ],
      "metadata": {
        "id": "xRvQCbvI8VOl"
      },
      "execution_count": null,
      "outputs": []
    },
    {
      "cell_type": "markdown",
      "source": [
        "**Ghi chú:** Tất cả các đặc trưng (features) đều đã đầy đủ"
      ],
      "metadata": {
        "id": "2JTtcjkHCD86"
      }
    },
    {
      "cell_type": "markdown",
      "source": [
        "#**6. Xây dựng và biến đổi đặc trưng**"
      ],
      "metadata": {
        "id": "vhJ4kQY4lTcX"
      }
    },
    {
      "cell_type": "code",
      "source": [
        "def plot_feat1_feat2(feat1, feat2) :\n",
        "    D = data[(data['Outcome'] != 0)]\n",
        "    H = data[(data['Outcome'] == 0)]\n",
        "    trace0 = go.Scatter(\n",
        "        x = D[feat1],\n",
        "        y = D[feat2],\n",
        "        name = 'diabetic',\n",
        "        mode = 'markers',\n",
        "        marker = dict(color = '#FFD700',\n",
        "            line = dict(\n",
        "                width = 1)))\n",
        "\n",
        "    trace1 = go.Scatter(\n",
        "        x = H[feat1],\n",
        "        y = H[feat2],\n",
        "        name = 'healthy',\n",
        "        mode = 'markers',\n",
        "        marker = dict(color = '#7EC0EE',line = dict(\n",
        "                width = 1)))\n",
        "\n",
        "    layout = dict(title = feat1 +\" \"+\"vs\"+\" \"+ feat2,\n",
        "                  yaxis = dict(title = feat2,zeroline = False),\n",
        "                  xaxis = dict(title = feat1, zeroline = False)\n",
        "                 )\n",
        "\n",
        "    plots = [trace0, trace1]\n",
        "\n",
        "    fig = dict(data = plots, layout=layout)\n",
        "    py.iplot(fig)"
      ],
      "metadata": {
        "id": "Cf7OLWO48lzc"
      },
      "execution_count": null,
      "outputs": []
    },
    {
      "cell_type": "code",
      "source": [
        "def barplot(var_select, sub):\n",
        "    tmp1 = data[data['Outcome'] != 0]\n",
        "    tmp2 = data[data['Outcome'] == 0]\n",
        "    tmp3 = pd.DataFrame(pd.crosstab(data[var_select], data['Outcome']))\n",
        "    tmp3['% diabetic'] = tmp3[1] / (tmp3[1] + tmp3[0]) * 100\n",
        "\n",
        "    # Trace cho diabetic\n",
        "    trace1 = go.Bar(\n",
        "        x=tmp1[var_select].value_counts().index.tolist(),\n",
        "        y=tmp1[var_select].value_counts().values.tolist(),\n",
        "        text=tmp1[var_select].value_counts().values.tolist(),\n",
        "        textposition='auto',\n",
        "        name='diabetic',\n",
        "        opacity=0.8,\n",
        "        marker=dict(\n",
        "            color='gold',\n",
        "            line=dict(color='#000000', width=1)\n",
        "        )\n",
        "    )\n",
        "\n",
        "    # Trace cho healthy\n",
        "    trace2 = go.Bar(\n",
        "        x=tmp2[var_select].value_counts().index.tolist(),\n",
        "        y=tmp2[var_select].value_counts().values.tolist(),\n",
        "        text=tmp2[var_select].value_counts().values.tolist(),\n",
        "        textposition='auto',\n",
        "        name='healthy',\n",
        "        opacity=0.8,\n",
        "        marker=dict(\n",
        "            color='lightskyblue',\n",
        "            line=dict(color='#000000', width=1)\n",
        "        )\n",
        "    )\n",
        "\n",
        "    # Trace cho % diabetic\n",
        "    trace3 = go.Scatter(\n",
        "        x=tmp3.index,\n",
        "        y=tmp3['% diabetic'],\n",
        "        yaxis='y2',\n",
        "        name='% diabetic',\n",
        "        opacity=0.6,\n",
        "        marker=dict(\n",
        "            color='black',\n",
        "            line=dict(color='#000000', width=0.5)\n",
        "        )\n",
        "    )\n",
        "\n",
        "    # Layout\n",
        "    layout = dict(\n",
        "        title=str(var_select) + ' ' + sub,\n",
        "        xaxis=dict(),\n",
        "        yaxis=dict(title='Count'),\n",
        "        yaxis2=dict(\n",
        "            range=[0, 75],\n",
        "            overlaying='y',\n",
        "            anchor='x',\n",
        "            side='right',\n",
        "            zeroline=False,\n",
        "            showgrid=False,\n",
        "            title='% diabetic'\n",
        "        )\n",
        "    )\n",
        "\n",
        "    # Tạo figure và vẽ\n",
        "    fig = go.Figure(data=[trace1, trace2, trace3], layout=layout)\n",
        "    py.iplot(fig)\n"
      ],
      "metadata": {
        "id": "awvNDQIm81Am"
      },
      "execution_count": null,
      "outputs": []
    },
    {
      "cell_type": "code",
      "source": [
        "# Define pie plot to visualize each variable repartition vs target modalities : Survived or Died (train)\n",
        "def plot_pie(var_select, sub) :\n",
        "    D = data[(data['Outcome'] != 0)]\n",
        "    H = data[(data['Outcome'] == 0)]\n",
        "\n",
        "    col =['Silver', 'mediumturquoise','#CF5C36','lightblue','magenta', '#FF5D73','#F2D7EE','mediumturquoise']\n",
        "\n",
        "    trace1 = go.Pie(values  = D[var_select].value_counts().values.tolist(),\n",
        "                    labels  = D[var_select].value_counts().keys().tolist(),\n",
        "                    textfont=dict(size=15), opacity = 0.8,\n",
        "                    hole = 0.5,\n",
        "                    hoverinfo = \"label+percent+name\",\n",
        "                    domain  = dict(x = [.0,.48]),\n",
        "                    name    = \"Diabetic\",\n",
        "                    marker  = dict(colors = col, line = dict(width = 1.5)))\n",
        "    trace2 = go.Pie(values  = H[var_select].value_counts().values.tolist(),\n",
        "                    labels  = H[var_select].value_counts().keys().tolist(),\n",
        "                    textfont=dict(size=15), opacity = 0.8,\n",
        "                    hole = 0.5,\n",
        "                    hoverinfo = \"label+percent+name\",\n",
        "                    marker  = dict(line = dict(width = 1.5)),\n",
        "                    domain  = dict(x = [.52,1]),\n",
        "                    name    = \"Healthy\" )\n",
        "\n",
        "    layout = go.Layout(dict(title = var_select + \" distribution by target <br>\"+(sub),\n",
        "                            annotations = [ dict(text = \"Diabetic\"+\" : \"+\"268\",\n",
        "                                                font = dict(size = 13),\n",
        "                                                showarrow = False,\n",
        "                                                x = .22, y = -0.1),\n",
        "                                            dict(text = \"Healthy\"+\" : \"+\"500\",\n",
        "                                                font = dict(size = 13),\n",
        "                                                showarrow = False,\n",
        "                                                x = .8,y = -.1)]))\n",
        "\n",
        "\n",
        "    fig  = go.Figure(data = [trace1,trace2],layout = layout)\n",
        "    py.iplot(fig)"
      ],
      "metadata": {
        "id": "2ZPMbEws9n0E"
      },
      "execution_count": null,
      "outputs": []
    },
    {
      "cell_type": "code",
      "source": [
        "plot_feat1_feat2('Glucose','Age')"
      ],
      "metadata": {
        "id": "tF92TX8S9ymv"
      },
      "execution_count": null,
      "outputs": []
    },
    {
      "cell_type": "code",
      "source": [
        "palette ={0 : 'lightblue', 1 : 'gold'}\n",
        "edgecolor = 'black'\n",
        "\n",
        "fig = plt.figure(figsize=(12,8))\n",
        "\n",
        "ax1 = sns.scatterplot(x = data['Glucose'], y = data['Age'], hue = \"Outcome\",\n",
        "                    data = data, palette = palette, edgecolor=edgecolor)\n",
        "\n",
        "plt.annotate('N1', size=25, color='black', xy=(80, 30), xytext=(60, 35),\n",
        "            arrowprops=dict(facecolor='black', shrink=0.05),\n",
        "            )\n",
        "plt.plot([50, 120], [30, 30], linewidth=2, color = 'red')\n",
        "plt.plot([120, 120], [20, 30], linewidth=2, color = 'red')\n",
        "plt.plot([50, 120], [20, 20], linewidth=2, color = 'red')\n",
        "plt.plot([50, 50], [20, 30], linewidth=2, color = 'red')\n",
        "plt.title('Glucose vs Age')\n",
        "plt.show()"
      ],
      "metadata": {
        "id": "999OPgYk92kj"
      },
      "execution_count": null,
      "outputs": []
    },
    {
      "cell_type": "code",
      "source": [
        "data.loc[:,'N1']=0\n",
        "data.loc[(data['Age']<=30) & (data['Glucose']<=120),'N1']=1"
      ],
      "metadata": {
        "id": "bncNrTwL-Jfb"
      },
      "execution_count": null,
      "outputs": []
    },
    {
      "cell_type": "code",
      "source": [
        "barplot('N1', ':Glucose <= 120 and Age <= 30')"
      ],
      "metadata": {
        "id": "KzK3SYoK-MsY"
      },
      "execution_count": null,
      "outputs": []
    },
    {
      "cell_type": "code",
      "source": [
        "plot_pie('N1', '(Glucose <= 120 and Age <= 30)')"
      ],
      "metadata": {
        "id": "C30z6GJL-Oce"
      },
      "execution_count": null,
      "outputs": []
    },
    {
      "cell_type": "code",
      "source": [
        "data.loc[:,'N2']=0\n",
        "data.loc[(data['BMI']<=30),'N2']=1"
      ],
      "metadata": {
        "id": "jTIIx48H-SKf"
      },
      "execution_count": null,
      "outputs": []
    },
    {
      "cell_type": "code",
      "source": [
        "barplot('N2', ': BMI <= 30')"
      ],
      "metadata": {
        "id": "zb0rJLxT-bwU"
      },
      "execution_count": null,
      "outputs": []
    },
    {
      "cell_type": "code",
      "source": [
        "plot_pie('N2', 'BMI <= 30')"
      ],
      "metadata": {
        "id": "4zdx4Egc-fyz"
      },
      "execution_count": null,
      "outputs": []
    },
    {
      "cell_type": "code",
      "source": [
        "plot_feat1_feat2('Pregnancies','Age')"
      ],
      "metadata": {
        "id": "20i7oWNT-jxK"
      },
      "execution_count": null,
      "outputs": []
    },
    {
      "cell_type": "code",
      "source": [
        "palette ={0 : 'lightblue', 1 : 'gold'}\n",
        "edgecolor = 'black'\n",
        "\n",
        "fig = plt.figure(figsize=(12,8))\n",
        "\n",
        "ax1 = sns.scatterplot(x = data['Pregnancies'], y = data['Age'], hue = \"Outcome\",\n",
        "                    data = data, palette = palette, edgecolor=edgecolor)\n",
        "\n",
        "plt.annotate('N3', size=25, color='black', xy=(6, 25), xytext=(10, 25),\n",
        "            arrowprops=dict(facecolor='black', shrink=0.05),\n",
        "            )\n",
        "plt.plot([0, 6], [30, 30], linewidth=2, color = 'red')\n",
        "plt.plot([6, 6], [20, 30], linewidth=2, color = 'red')\n",
        "plt.plot([0, 6], [20, 20], linewidth=2, color = 'red')\n",
        "plt.plot([0, 0], [20, 30], linewidth=2, color = 'red')\n",
        "plt.title('Pregnancies vs Age')\n",
        "plt.show()"
      ],
      "metadata": {
        "id": "C35e3tLD-nBy"
      },
      "execution_count": null,
      "outputs": []
    },
    {
      "cell_type": "code",
      "source": [
        "data.loc[:,'N3']=0\n",
        "data.loc[(data['Age']<=30) & (data['Pregnancies']<=6),'N3']=1"
      ],
      "metadata": {
        "id": "drnFP2jc-rYa"
      },
      "execution_count": null,
      "outputs": []
    },
    {
      "cell_type": "code",
      "source": [
        "barplot('N3', ': Age <= 30 and Pregnancies <= 6')"
      ],
      "metadata": {
        "id": "EgBiIYAw-wU8"
      },
      "execution_count": null,
      "outputs": []
    },
    {
      "cell_type": "code",
      "source": [
        "plot_pie('N3', 'Age <= 30 and Pregnancies <= 6')"
      ],
      "metadata": {
        "id": "84bclp__-zXi"
      },
      "execution_count": null,
      "outputs": []
    },
    {
      "cell_type": "code",
      "source": [
        "plot_feat1_feat2('Glucose','BloodPressure')"
      ],
      "metadata": {
        "id": "LMYlSHfC-3Qm"
      },
      "execution_count": null,
      "outputs": []
    },
    {
      "cell_type": "code",
      "source": [
        "palette ={0 : 'lightblue', 1 : 'gold'}\n",
        "edgecolor = 'black'\n",
        "\n",
        "fig = plt.figure(figsize=(12,8))\n",
        "\n",
        "ax1 = sns.scatterplot(x = data['Glucose'], y = data['BloodPressure'], hue = \"Outcome\",\n",
        "                    data = data, palette = palette, edgecolor=edgecolor)\n",
        "\n",
        "plt.annotate('N4', size=25, color='black', xy=(70, 80), xytext=(50, 110),\n",
        "            arrowprops=dict(facecolor='black', shrink=0.05),\n",
        "            )\n",
        "plt.plot([40, 105], [80, 80], linewidth=2, color = 'red')\n",
        "plt.plot([40, 40], [20, 80], linewidth=2, color = 'red')\n",
        "plt.plot([40, 105], [20, 20], linewidth=2, color = 'red')\n",
        "plt.plot([105, 105], [20, 80], linewidth=2, color = 'red')\n",
        "plt.title('Glucose vs BloodPressure')\n",
        "plt.show()"
      ],
      "metadata": {
        "id": "b3WEbH3o-6y7"
      },
      "execution_count": null,
      "outputs": []
    },
    {
      "cell_type": "code",
      "source": [
        "data.loc[:,'N4']=0\n",
        "data.loc[(data['Glucose']<=105) & (data['BloodPressure']<=80),'N4']=1"
      ],
      "metadata": {
        "id": "IpyHFpq8_GBW"
      },
      "execution_count": null,
      "outputs": []
    },
    {
      "cell_type": "code",
      "source": [
        "barplot('N4', ': Glucose <= 105 and BloodPressure <= 80')"
      ],
      "metadata": {
        "id": "y_U2zv1b_KB4"
      },
      "execution_count": null,
      "outputs": []
    },
    {
      "cell_type": "code",
      "source": [
        "plot_pie('N4', 'Glucose <= 105 and BloodPressure <= 80')"
      ],
      "metadata": {
        "id": "bVoIxUgq_Qd2"
      },
      "execution_count": null,
      "outputs": []
    },
    {
      "cell_type": "code",
      "source": [
        "data.loc[:,'N5']=0\n",
        "data.loc[(data['SkinThickness']<=20) ,'N5']=1"
      ],
      "metadata": {
        "id": "Whr0gE14_SNq"
      },
      "execution_count": null,
      "outputs": []
    },
    {
      "cell_type": "code",
      "source": [
        "barplot('N5', ':SkinThickness <= 20')"
      ],
      "metadata": {
        "id": "CS9PCGA7_Vkl"
      },
      "execution_count": null,
      "outputs": []
    },
    {
      "cell_type": "code",
      "source": [
        "plot_pie('N5', 'SkinThickness <= 20')"
      ],
      "metadata": {
        "id": "aTu5snwp_ZcC"
      },
      "execution_count": null,
      "outputs": []
    },
    {
      "cell_type": "code",
      "source": [
        "plot_feat1_feat2('SkinThickness','BMI')"
      ],
      "metadata": {
        "id": "qQJoVyOC_c_V"
      },
      "execution_count": null,
      "outputs": []
    },
    {
      "cell_type": "code",
      "source": [
        "data.loc[:,'N6']=0\n",
        "data.loc[(data['BMI']<30) & (data['SkinThickness']<=20),'N6']=1"
      ],
      "metadata": {
        "id": "3NKN7Fc4_g07"
      },
      "execution_count": null,
      "outputs": []
    },
    {
      "cell_type": "code",
      "source": [
        "palette ={0 : 'lightblue', 1 : 'gold'}\n",
        "edgecolor = 'black'\n",
        "\n",
        "fig = plt.figure(figsize=(12,8))\n",
        "\n",
        "ax1 = sns.scatterplot(x = data['SkinThickness'], y = data['BMI'], hue = \"Outcome\",\n",
        "                    data = data, palette = palette, edgecolor=edgecolor)\n",
        "\n",
        "plt.annotate('N6', size=25, color='black', xy=(20, 20), xytext=(50, 25),\n",
        "            arrowprops=dict(facecolor='black', shrink=0.05),\n",
        "            )\n",
        "plt.plot([0, 20], [30, 30], linewidth=2, color = 'red')\n",
        "plt.plot([0, 0], [16, 30], linewidth=2, color = 'red')\n",
        "plt.plot([0, 20], [16, 16], linewidth=2, color = 'red')\n",
        "plt.plot([20, 20], [16, 30], linewidth=2, color = 'red')\n",
        "plt.title('SkinThickness vs BMI')\n",
        "plt.show()"
      ],
      "metadata": {
        "id": "Wpq5_Jws_nGu"
      },
      "execution_count": null,
      "outputs": []
    },
    {
      "cell_type": "code",
      "source": [
        "barplot('N6', ': BMI < 30 and SkinThickness <= 20')"
      ],
      "metadata": {
        "id": "I-OWVsyr_rGe"
      },
      "execution_count": null,
      "outputs": []
    },
    {
      "cell_type": "code",
      "source": [
        "plot_pie('N6', 'BMI < 30 and SkinThickness <= 20')"
      ],
      "metadata": {
        "id": "TRabYuKN_z7f"
      },
      "execution_count": null,
      "outputs": []
    },
    {
      "cell_type": "code",
      "source": [
        "plot_feat1_feat2('Glucose','BMI')"
      ],
      "metadata": {
        "id": "rQAcxfVD_5iX"
      },
      "execution_count": null,
      "outputs": []
    },
    {
      "cell_type": "code",
      "source": [
        "palette ={0 : 'lightblue', 1 : 'gold'}\n",
        "edgecolor = 'black'\n",
        "\n",
        "fig = plt.figure(figsize=(12,8))\n",
        "\n",
        "ax1 = sns.scatterplot(x = data['Glucose'], y = data['BMI'], hue = \"Outcome\",\n",
        "                    data = data, palette = palette, edgecolor=edgecolor)\n",
        "\n",
        "plt.annotate('N7', size=25, color='black', xy=(70, 35), xytext=(40, 60),\n",
        "            arrowprops=dict(facecolor='black', shrink=0.05),\n",
        "            )\n",
        "plt.plot([105, 105], [16, 30], linewidth=2, color = 'red')\n",
        "plt.plot([40, 40], [16, 30], linewidth=2, color = 'red')\n",
        "plt.plot([40, 105], [16, 16], linewidth=2, color = 'red')\n",
        "plt.plot([40, 105], [30, 30], linewidth=2, color = 'red')\n",
        "plt.title('Glucose vs BMI')\n",
        "plt.show()"
      ],
      "metadata": {
        "id": "M1X89N6K_69i"
      },
      "execution_count": null,
      "outputs": []
    },
    {
      "cell_type": "code",
      "source": [
        "data.loc[:,'N7']=0\n",
        "data.loc[(data['Glucose']<=105) & (data['BMI']<=30),'N7']=1"
      ],
      "metadata": {
        "id": "NyNbx9DSAA16"
      },
      "execution_count": null,
      "outputs": []
    },
    {
      "cell_type": "code",
      "source": [
        "barplot('N7', ': Glucose <= 105 and BMI <= 30')"
      ],
      "metadata": {
        "id": "tVkp9tJMACO1"
      },
      "execution_count": null,
      "outputs": []
    },
    {
      "cell_type": "code",
      "source": [
        "plot_pie('N7', 'Glucose <= 105 and BMI <= 30')"
      ],
      "metadata": {
        "id": "xdodSQE-AFiB"
      },
      "execution_count": null,
      "outputs": []
    },
    {
      "cell_type": "code",
      "source": [
        "plot_distribution('Insulin', 0)"
      ],
      "metadata": {
        "id": "Vz5e-nDiAJFX"
      },
      "execution_count": null,
      "outputs": []
    },
    {
      "cell_type": "code",
      "source": [
        "data.loc[:,'N9']=0\n",
        "data.loc[(data['Insulin']<200),'N9']=1"
      ],
      "metadata": {
        "id": "r-1BuJ-5ANFX"
      },
      "execution_count": null,
      "outputs": []
    },
    {
      "cell_type": "code",
      "source": [
        "barplot('N9', ': Insulin < 200')"
      ],
      "metadata": {
        "id": "kT0QzjO-AQRD"
      },
      "execution_count": null,
      "outputs": []
    },
    {
      "cell_type": "code",
      "source": [
        "plot_pie('N9', 'Insulin < 200')"
      ],
      "metadata": {
        "id": "owSJc2YzATrS"
      },
      "execution_count": null,
      "outputs": []
    },
    {
      "cell_type": "code",
      "source": [
        "data.loc[:,'N10']=0\n",
        "data.loc[(data['BloodPressure']<80),'N10']=1"
      ],
      "metadata": {
        "id": "6EqmiV3lAXSA"
      },
      "execution_count": null,
      "outputs": []
    },
    {
      "cell_type": "code",
      "source": [
        "barplot('N10', ': BloodPressure < 80')"
      ],
      "metadata": {
        "id": "X-5llXUTAa-1"
      },
      "execution_count": null,
      "outputs": []
    },
    {
      "cell_type": "code",
      "source": [
        "plot_pie('N10', 'BloodPressure < 80')"
      ],
      "metadata": {
        "id": "l2yGmMfAAeVs"
      },
      "execution_count": null,
      "outputs": []
    },
    {
      "cell_type": "code",
      "source": [
        "plot_distribution('Pregnancies', 0)"
      ],
      "metadata": {
        "id": "4oEoufLHAh1L"
      },
      "execution_count": null,
      "outputs": []
    },
    {
      "cell_type": "code",
      "source": [
        "data.loc[:,'N11']=0\n",
        "data.loc[(data['Pregnancies']<4) & (data['Pregnancies']!=0) ,'N11']=1"
      ],
      "metadata": {
        "id": "1TDumIfUAl7h"
      },
      "execution_count": null,
      "outputs": []
    },
    {
      "cell_type": "code",
      "source": [
        "barplot('N11', ': Pregnancies > 0 and < 4')"
      ],
      "metadata": {
        "id": "v7L9hPwyAuXg"
      },
      "execution_count": null,
      "outputs": []
    },
    {
      "cell_type": "code",
      "source": [
        "plot_pie('N11', 'Pregnancies > 0 and < 4')"
      ],
      "metadata": {
        "id": "g_NXyZFCAxpc"
      },
      "execution_count": null,
      "outputs": []
    },
    {
      "cell_type": "code",
      "source": [
        "data['N0'] = data['BMI'] * data['SkinThickness']\n",
        "\n",
        "data['N8'] =  data['Pregnancies'] / data['Age']\n",
        "\n",
        "data['N13'] = data['Glucose'] / data['DiabetesPedigreeFunction']\n",
        "\n",
        "data['N12'] = data['Age'] * data['DiabetesPedigreeFunction']\n",
        "\n",
        "data['N14'] = data['Age'] / data['Insulin']"
      ],
      "metadata": {
        "id": "ND1ElbGmA1U3"
      },
      "execution_count": null,
      "outputs": []
    },
    {
      "cell_type": "code",
      "source": [
        "D = data[(data['Outcome'] != 0)]\n",
        "H = data[(data['Outcome'] == 0)]"
      ],
      "metadata": {
        "id": "2nkfaxmkA5KZ"
      },
      "execution_count": null,
      "outputs": []
    },
    {
      "cell_type": "code",
      "source": [
        "plot_distribution('N0', 0)"
      ],
      "metadata": {
        "id": "FeaUn26YA8F8"
      },
      "execution_count": null,
      "outputs": []
    },
    {
      "cell_type": "code",
      "source": [
        "data.loc[:,'N15']=0\n",
        "data.loc[(data['N0']<1034) ,'N15']=1"
      ],
      "metadata": {
        "id": "bHveZ2SfBDw7"
      },
      "execution_count": null,
      "outputs": []
    },
    {
      "cell_type": "code",
      "source": [
        "barplot('N15', ': N0 < 1034')"
      ],
      "metadata": {
        "id": "06L43kisBG_4"
      },
      "execution_count": null,
      "outputs": []
    },
    {
      "cell_type": "code",
      "source": [
        "plot_pie('N15', 'N0 < 1034')"
      ],
      "metadata": {
        "id": "kNiGNpCOBKG1"
      },
      "execution_count": null,
      "outputs": []
    },
    {
      "cell_type": "code",
      "source": [
        "target_col = [\"Outcome\"]\n",
        "cat_cols   = data.nunique()[data.nunique() < 12].keys().tolist()\n",
        "cat_cols   = [x for x in cat_cols ]\n",
        "#numerical columns\n",
        "num_cols   = [x for x in data.columns if x not in cat_cols + target_col]\n",
        "#Binary columns with 2 values\n",
        "bin_cols   = data.nunique()[data.nunique() == 2].keys().tolist()\n",
        "#Columns more than 2 values\n",
        "multi_cols = [i for i in cat_cols if i not in bin_cols]\n",
        "\n",
        "#Label encoding Binary columns\n",
        "le = LabelEncoder()\n",
        "for i in bin_cols :\n",
        "    data[i] = le.fit_transform(data[i])\n",
        "\n",
        "#Duplicating columns for multi value columns\n",
        "data = pd.get_dummies(data = data,columns = multi_cols )\n",
        "#Scaling Numerical columns\n",
        "std = StandardScaler()\n",
        "scaled = std.fit_transform(data[num_cols])\n",
        "scaled = pd.DataFrame(scaled,columns=num_cols)\n",
        "\n",
        "#dropping original values merging scaled values for numerical columns\n",
        "df_data_og = data.copy()\n",
        "data = data.drop(columns = num_cols,axis = 1)\n",
        "data = data.merge(scaled,left_index=True,right_index=True,how = \"left\")"
      ],
      "metadata": {
        "id": "4WhljSocBORa"
      },
      "execution_count": null,
      "outputs": []
    },
    {
      "cell_type": "code",
      "source": [
        "def correlation_plot():\n",
        "    import numpy as np\n",
        "    import plotly.graph_objs as go\n",
        "    import plotly.offline as py\n",
        "\n",
        "    # Correlation\n",
        "    correlation = data.corr()\n",
        "\n",
        "    # Tick labels\n",
        "    matrix_cols = correlation.columns.tolist()\n",
        "\n",
        "    # Convert to array\n",
        "    corr_array = np.array(correlation)\n",
        "\n",
        "    # Heatmap trace\n",
        "    trace = go.Heatmap(\n",
        "        z=corr_array,\n",
        "        x=matrix_cols,\n",
        "        y=matrix_cols,\n",
        "        colorscale='Viridis',\n",
        "        colorbar=dict()\n",
        "    )\n",
        "\n",
        "    # Layout\n",
        "    layout = go.Layout(\n",
        "        title='Correlation Matrix for variables',\n",
        "        margin=dict(r=0, l=100, t=0, b=100),\n",
        "        yaxis=dict(tickfont=dict(size=9)),\n",
        "        xaxis=dict(tickfont=dict(size=9))\n",
        "    )\n",
        "\n",
        "    # Figure\n",
        "    fig = go.Figure(data=[trace], layout=layout)\n",
        "    py.iplot(fig)\n"
      ],
      "metadata": {
        "id": "qA28KdnQCF4f"
      },
      "execution_count": null,
      "outputs": []
    },
    {
      "cell_type": "code",
      "source": [
        "correlation_plot()"
      ],
      "metadata": {
        "id": "8N9plJ7UCdWh"
      },
      "execution_count": null,
      "outputs": []
    },
    {
      "cell_type": "code",
      "source": [
        "x = data.drop('Outcome', axis=1)\n",
        "y = data['Outcome']"
      ],
      "metadata": {
        "id": "H8soREwlCmFV"
      },
      "execution_count": null,
      "outputs": []
    },
    {
      "cell_type": "code",
      "source": [
        "data.info()"
      ],
      "metadata": {
        "id": "llsqBfelG28g"
      },
      "execution_count": null,
      "outputs": []
    },
    {
      "cell_type": "code",
      "source": [
        "scale=StandardScaler()\n",
        "x=scale.fit_transform(x)"
      ],
      "metadata": {
        "id": "I2CahgNsWgKQ"
      },
      "execution_count": null,
      "outputs": []
    },
    {
      "cell_type": "code",
      "source": [
        "x_train,x_test,y_train,y_test=train_test_split(x,y,test_size=0.20,random_state=0)"
      ],
      "metadata": {
        "id": "TJJAfiNsTStF"
      },
      "execution_count": null,
      "outputs": []
    },
    {
      "cell_type": "markdown",
      "source": [
        "# MÔ HÌNH SVM"
      ],
      "metadata": {
        "id": "OOYZz6mweYR7"
      }
    },
    {
      "cell_type": "markdown",
      "source": [
        "# MÔ HÌNH KNN"
      ],
      "metadata": {
        "id": "zj4NLYGLhU7H"
      }
    },
    {
      "cell_type": "markdown",
      "source": [
        "# MÔ HÌNH Logistic Regression"
      ],
      "metadata": {
        "id": "6z6PI4LOlceH"
      }
    },
    {
      "cell_type": "markdown",
      "source": [
        "# MÔ HÌNH Random Forest"
      ],
      "metadata": {
        "id": "Z7J_waKqpiD8"
      }
    }
  ]
}